{
 "cells": [
  {
   "cell_type": "markdown",
   "id": "f4c01820-82e3-4cf0-a45c-16c3dee7761b",
   "metadata": {},
   "source": [
    "# Project Name"
   ]
  },
  {
   "cell_type": "markdown",
   "id": "22e2a99b-805a-4c62-baec-34dab24ef368",
   "metadata": {},
   "source": [
    "**Author:** Tyler Albert\n",
    "**last edited:** 11-14-24 (Created 11-12-24)\n",
    "\n",
    "**Description:** short paragraph explaining the project"
   ]
  },
  {
   "cell_type": "markdown",
   "id": "10e4210d-93fe-4492-81ef-e4977fae0ad5",
   "metadata": {},
   "source": [
    "Import Libraries:"
   ]
  },
  {
   "cell_type": "code",
   "execution_count": null,
   "id": "e3915cd6-642a-4e63-8c8f-c9d7699a8709",
   "metadata": {},
   "outputs": [],
   "source": [
    "import pandas as pd"
   ]
  },
  {
   "cell_type": "markdown",
   "id": "5e9136b3-7a5a-4dc3-ae43-9425361c9570",
   "metadata": {},
   "source": [
    "Load Data:"
   ]
  },
  {
   "cell_type": "code",
   "execution_count": null,
   "id": "917de77e-a227-45c3-91e3-52f103adbf50",
   "metadata": {},
   "outputs": [],
   "source": [
    "df = pd.read_csv('name_of_file.csv')"
   ]
  },
  {
   "cell_type": "markdown",
   "id": "a42e2e5c-ea0e-4ef0-87ca-3ed39e7575f6",
   "metadata": {},
   "source": [
    "Saving completed data into a CSV:"
   ]
  },
  {
   "cell_type": "code",
   "execution_count": null,
   "id": "d1f034a6-f22a-43d8-b69c-f69c6b72ab19",
   "metadata": {},
   "outputs": [],
   "source": [
    "df.to_csv('name_of_csv.csv', index = True)"
   ]
  }
 ],
 "metadata": {
  "kernelspec": {
   "display_name": "Python 3 (ipykernel)",
   "language": "python",
   "name": "python3"
  },
  "language_info": {
   "codemirror_mode": {
    "name": "ipython",
    "version": 3
   },
   "file_extension": ".py",
   "mimetype": "text/x-python",
   "name": "python",
   "nbconvert_exporter": "python",
   "pygments_lexer": "ipython3",
   "version": "3.12.4"
  }
 },
 "nbformat": 4,
 "nbformat_minor": 5
}
